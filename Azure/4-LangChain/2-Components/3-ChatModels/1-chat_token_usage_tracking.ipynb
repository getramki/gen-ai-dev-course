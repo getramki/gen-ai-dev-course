{
 "cells": [
  {
   "cell_type": "markdown",
   "id": "e5715368",
   "metadata": {},
   "source": [
    "# How to track token usage in ChatModels\n",
    "\n",
    ":::info Prerequisites\n",
    "\n",
    "This guide assumes familiarity with the following concepts:\n",
    "- [Chat models](/docs/concepts/#chat-models)\n",
    "\n",
    ":::\n",
    "\n",
    "Tracking token usage to calculate cost is an important part of putting your app in production. This guide goes over how to obtain this information from your LangChain model calls.\n",
    "\n",
    "This guide requires `langchain-openai >= 0.1.9`."
   ]
  },
  {
   "cell_type": "code",
   "execution_count": null,
   "id": "9c7d1338-dd1b-4d06-b33d-d5cffc49fd6a",
   "metadata": {},
   "outputs": [],
   "source": [
    "# %pip install --upgrade --quiet langchain langchain-openai"
   ]
  },
  {
   "cell_type": "markdown",
   "id": "598ae1e2-a52d-4459-81fd-cdc68b06742a",
   "metadata": {},
   "source": [
    "## Using LangSmith\n",
    "\n",
    "You can use [LangSmith](https://www.langchain.com/langsmith) to help track token usage in your LLM application. See the [LangSmith quick start guide](https://docs.smith.langchain.com/).\n",
    "\n",
    "## Using AIMessage.usage_metadata\n",
    "\n",
    "A number of model providers return token usage information as part of the chat generation response. When available, this information will be included on the `AIMessage` objects produced by the corresponding model.\n",
    "\n",
    "LangChain `AIMessage` objects include a [usage_metadata](https://python.langchain.com/api_reference/core/messages/langchain_core.messages.ai.AIMessage.html#langchain_core.messages.ai.AIMessage.usage_metadata) attribute. When populated, this attribute will be a [UsageMetadata](https://python.langchain.com/api_reference/core/messages/langchain_core.messages.ai.UsageMetadata.html) dictionary with standard keys (e.g., `\"input_tokens\"` and `\"output_tokens\"`).\n",
    "\n",
    "Examples:\n",
    "\n",
    "**OpenAI**:"
   ]
  },
  {
   "cell_type": "code",
   "execution_count": 1,
   "id": "b39bf807-4125-4db4-bbf7-28a46afff6b4",
   "metadata": {},
   "outputs": [
    {
     "data": {
      "text/plain": [
       "{'input_tokens': 8, 'output_tokens': 9, 'total_tokens': 17}"
      ]
     },
     "execution_count": 1,
     "metadata": {},
     "output_type": "execute_result"
    }
   ],
   "source": [
    "# # !pip install -qU langchain-openai\n",
    "\n",
    "from langchain_openai import ChatOpenAI\n",
    "\n",
    "llm = ChatOpenAI(model=\"gpt-4o-mini\")\n",
    "openai_response = llm.invoke(\"hello\")\n",
    "openai_response.usage_metadata"
   ]
  },
  {
   "cell_type": "markdown",
   "id": "6d4efc15-ba9f-4b3d-9278-8e01f99f263f",
   "metadata": {},
   "source": [
    "### Using AIMessage.response_metadata\n",
    "\n",
    "Metadata from the model response is also included in the AIMessage [response_metadata](https://python.langchain.com/api_reference/core/messages/langchain_core.messages.ai.AIMessage.html#langchain_core.messages.ai.AIMessage.response_metadata) attribute. These data are typically not standardized. Note that different providers adopt different conventions for representing token counts:"
   ]
  },
  {
   "cell_type": "code",
   "execution_count": 4,
   "id": "f156f9da-21f2-4c81-a714-54cbf9ad393e",
   "metadata": {},
   "outputs": [
    {
     "name": "stdout",
     "output_type": "stream",
     "text": [
      "OpenAI: {'completion_tokens': 9, 'prompt_tokens': 8, 'total_tokens': 17, 'completion_tokens_details': {'reasoning_tokens': 0}}\n",
      "\n"
     ]
    }
   ],
   "source": [
    "print(f'OpenAI: {openai_response.response_metadata[\"token_usage\"]}\\n')"
   ]
  },
  {
   "cell_type": "markdown",
   "id": "b4ef2c43-0ff6-49eb-9782-e4070c9da8d7",
   "metadata": {},
   "source": [
    "### Streaming\n",
    "\n",
    "Some providers support token count metadata in a streaming context.\n",
    "\n",
    "#### OpenAI\n",
    "\n",
    "For example, OpenAI will return a message [chunk](https://python.langchain.com/api_reference/core/messages/langchain_core.messages.ai.AIMessageChunk.html) at the end of a stream with token usage information. This behavior is supported by `langchain-openai >= 0.1.9` and can be enabled by setting `stream_usage=True`. This attribute can also be set when `ChatOpenAI` is instantiated.\n",
    "\n",
    "```{=mdx}\n",
    ":::note\n",
    "By default, the last message chunk in a stream will include a `\"finish_reason\"` in the message's `response_metadata` attribute. If we include token usage in streaming mode, an additional chunk containing usage metadata will be added to the end of the stream, such that `\"finish_reason\"` appears on the second to last message chunk.\n",
    ":::\n",
    "```"
   ]
  },
  {
   "cell_type": "code",
   "execution_count": 5,
   "id": "07f0c872-6b6c-4fed-a129-9b5a858505be",
   "metadata": {},
   "outputs": [
    {
     "name": "stdout",
     "output_type": "stream",
     "text": [
      "content='' additional_kwargs={} response_metadata={} id='run-81d90370-130a-4005-980d-0b64cac2a629'\n",
      "content='Hello' additional_kwargs={} response_metadata={} id='run-81d90370-130a-4005-980d-0b64cac2a629'\n",
      "content='!' additional_kwargs={} response_metadata={} id='run-81d90370-130a-4005-980d-0b64cac2a629'\n",
      "content=' How' additional_kwargs={} response_metadata={} id='run-81d90370-130a-4005-980d-0b64cac2a629'\n",
      "content=' can' additional_kwargs={} response_metadata={} id='run-81d90370-130a-4005-980d-0b64cac2a629'\n",
      "content=' I' additional_kwargs={} response_metadata={} id='run-81d90370-130a-4005-980d-0b64cac2a629'\n",
      "content=' assist' additional_kwargs={} response_metadata={} id='run-81d90370-130a-4005-980d-0b64cac2a629'\n",
      "content=' you' additional_kwargs={} response_metadata={} id='run-81d90370-130a-4005-980d-0b64cac2a629'\n",
      "content=' today' additional_kwargs={} response_metadata={} id='run-81d90370-130a-4005-980d-0b64cac2a629'\n",
      "content='?' additional_kwargs={} response_metadata={} id='run-81d90370-130a-4005-980d-0b64cac2a629'\n",
      "content='' additional_kwargs={} response_metadata={'finish_reason': 'stop', 'model_name': 'gpt-4o-mini-2024-07-18', 'system_fingerprint': 'fp_483d39d857'} id='run-81d90370-130a-4005-980d-0b64cac2a629'\n",
      "content='' additional_kwargs={} response_metadata={} id='run-81d90370-130a-4005-980d-0b64cac2a629' usage_metadata={'input_tokens': 8, 'output_tokens': 9, 'total_tokens': 17}\n"
     ]
    }
   ],
   "source": [
    "llm = ChatOpenAI(model=\"gpt-4o-mini\")\n",
    "\n",
    "aggregate = None\n",
    "for chunk in llm.stream(\"hello\", stream_usage=True):\n",
    "    print(chunk)\n",
    "    aggregate = chunk if aggregate is None else aggregate + chunk"
   ]
  },
  {
   "cell_type": "markdown",
   "id": "dd809ded-8b13-4d5f-be5e-277b79d51802",
   "metadata": {},
   "source": [
    "Note that the usage metadata will be included in the sum of the individual message chunks:"
   ]
  },
  {
   "cell_type": "code",
   "execution_count": 6,
   "id": "3db7bc03-a7d4-4704-92ab-f8ba92ef59ae",
   "metadata": {},
   "outputs": [
    {
     "name": "stdout",
     "output_type": "stream",
     "text": [
      "Hello! How can I assist you today?\n",
      "{'input_tokens': 8, 'output_tokens': 9, 'total_tokens': 17}\n"
     ]
    }
   ],
   "source": [
    "print(aggregate.content)\n",
    "print(aggregate.usage_metadata)"
   ]
  },
  {
   "cell_type": "markdown",
   "id": "7dba63e8-0ed7-4533-8f0f-78e19c38a25c",
   "metadata": {},
   "source": [
    "To disable streaming token counts for OpenAI, set `stream_usage` to False, or omit it from the parameters:"
   ]
  },
  {
   "cell_type": "code",
   "execution_count": 7,
   "id": "67117f2b-ce68-4c1e-9556-2d3849f90e1b",
   "metadata": {},
   "outputs": [
    {
     "name": "stdout",
     "output_type": "stream",
     "text": [
      "content='' additional_kwargs={} response_metadata={} id='run-bb61f0fa-87f6-4f9f-9010-32d278cb526e'\n",
      "content='Hello' additional_kwargs={} response_metadata={} id='run-bb61f0fa-87f6-4f9f-9010-32d278cb526e'\n",
      "content='!' additional_kwargs={} response_metadata={} id='run-bb61f0fa-87f6-4f9f-9010-32d278cb526e'\n",
      "content=' How' additional_kwargs={} response_metadata={} id='run-bb61f0fa-87f6-4f9f-9010-32d278cb526e'\n",
      "content=' can' additional_kwargs={} response_metadata={} id='run-bb61f0fa-87f6-4f9f-9010-32d278cb526e'\n",
      "content=' I' additional_kwargs={} response_metadata={} id='run-bb61f0fa-87f6-4f9f-9010-32d278cb526e'\n",
      "content=' assist' additional_kwargs={} response_metadata={} id='run-bb61f0fa-87f6-4f9f-9010-32d278cb526e'\n",
      "content=' you' additional_kwargs={} response_metadata={} id='run-bb61f0fa-87f6-4f9f-9010-32d278cb526e'\n",
      "content=' today' additional_kwargs={} response_metadata={} id='run-bb61f0fa-87f6-4f9f-9010-32d278cb526e'\n",
      "content='?' additional_kwargs={} response_metadata={} id='run-bb61f0fa-87f6-4f9f-9010-32d278cb526e'\n",
      "content='' additional_kwargs={} response_metadata={'finish_reason': 'stop', 'model_name': 'gpt-4o-mini-2024-07-18', 'system_fingerprint': 'fp_483d39d857'} id='run-bb61f0fa-87f6-4f9f-9010-32d278cb526e'\n"
     ]
    }
   ],
   "source": [
    "aggregate = None\n",
    "for chunk in llm.stream(\"hello\"):\n",
    "    print(chunk)"
   ]
  },
  {
   "cell_type": "markdown",
   "id": "6a5d9617-be3a-419a-9276-de9c29fa50ae",
   "metadata": {},
   "source": [
    "You can also enable streaming token usage by setting `stream_usage` when instantiating the chat model. This can be useful when incorporating chat models into LangChain [chains](/docs/concepts#langchain-expression-language-lcel): usage metadata can be monitored when [streaming intermediate steps](/docs/how_to/streaming#using-stream-events) or using tracing software such as [LangSmith](https://docs.smith.langchain.com/).\n",
    "\n",
    "See the below example, where we return output structured to a desired schema, but can still observe token usage streamed from intermediate steps."
   ]
  },
  {
   "cell_type": "code",
   "execution_count": 8,
   "id": "0b1523d8-127e-4314-82fa-bd97aca37f9a",
   "metadata": {},
   "outputs": [
    {
     "name": "stdout",
     "output_type": "stream",
     "text": [
      "Token usage: {'input_tokens': 74, 'output_tokens': 21, 'total_tokens': 95}\n",
      "\n",
      "setup=\"Why don't scientists trust atoms?\" punchline='Because they make up everything!'\n"
     ]
    }
   ],
   "source": [
    "from pydantic import BaseModel, Field\n",
    "\n",
    "\n",
    "class Joke(BaseModel):\n",
    "    \"\"\"Joke to tell user.\"\"\"\n",
    "\n",
    "    setup: str = Field(description=\"question to set up a joke\")\n",
    "    punchline: str = Field(description=\"answer to resolve the joke\")\n",
    "\n",
    "\n",
    "llm = ChatOpenAI(\n",
    "    model=\"gpt-4o-mini\",\n",
    "    stream_usage=True,\n",
    ")\n",
    "# Under the hood, .with_structured_output binds tools to the\n",
    "# chat model and appends a parser.\n",
    "structured_llm = llm.with_structured_output(Joke)\n",
    "\n",
    "async for event in structured_llm.astream_events(\"Tell me a joke\", version=\"v2\"):\n",
    "    if event[\"event\"] == \"on_chat_model_end\":\n",
    "        print(f'Token usage: {event[\"data\"][\"output\"].usage_metadata}\\n')\n",
    "    elif event[\"event\"] == \"on_chain_end\":\n",
    "        print(event[\"data\"][\"output\"])\n",
    "    else:\n",
    "        pass"
   ]
  },
  {
   "cell_type": "markdown",
   "id": "2bc8d313-4bef-463e-89a5-236d8bb6ab2f",
   "metadata": {},
   "source": [
    "Token usage is also visible in the corresponding [LangSmith trace](https://smith.langchain.com/public/fe6513d5-7212-4045-82e0-fefa28bc7656/r) in the payload from the chat model."
   ]
  },
  {
   "cell_type": "markdown",
   "id": "d6845407-af25-4eed-bc3e-50925c6661e0",
   "metadata": {},
   "source": [
    "## Using callbacks\n",
    "\n",
    "There are also some API-specific callback context managers that allow you to track token usage across multiple calls. It is currently only implemented for the OpenAI API and Bedrock Anthropic API.\n",
    "\n",
    "### OpenAI\n",
    "\n",
    "Let's first look at an extremely simple example of tracking token usage for a single Chat model call."
   ]
  },
  {
   "cell_type": "code",
   "execution_count": 9,
   "id": "b04a4486-72fd-48ce-8f9e-5d281b441195",
   "metadata": {},
   "outputs": [
    {
     "name": "stdout",
     "output_type": "stream",
     "text": [
      "Tokens Used: 29\n",
      "\tPrompt Tokens: 11\n",
      "\tCompletion Tokens: 18\n",
      "Successful Requests: 1\n",
      "Total Cost (USD): $1.2449999999999998e-05\n"
     ]
    }
   ],
   "source": [
    "# !pip install -qU langchain-community wikipedia\n",
    "\n",
    "from langchain_community.callbacks.manager import get_openai_callback\n",
    "\n",
    "llm = ChatOpenAI(\n",
    "    model=\"gpt-4o-mini\",\n",
    "    temperature=0,\n",
    "    stream_usage=True,\n",
    ")\n",
    "\n",
    "with get_openai_callback() as cb:\n",
    "    result = llm.invoke(\"Tell me a joke\")\n",
    "    print(cb)"
   ]
  },
  {
   "cell_type": "markdown",
   "id": "c0ab6d27",
   "metadata": {},
   "source": [
    "Anything inside the context manager will get tracked. Here's an example of using it to track multiple calls in sequence."
   ]
  },
  {
   "cell_type": "code",
   "execution_count": 10,
   "id": "05f22a1d-b021-490f-8840-f628a07459f2",
   "metadata": {},
   "outputs": [
    {
     "name": "stdout",
     "output_type": "stream",
     "text": [
      "57\n"
     ]
    }
   ],
   "source": [
    "with get_openai_callback() as cb:\n",
    "    result = llm.invoke(\"Tell me a joke\")\n",
    "    result2 = llm.invoke(\"Tell me a joke\")\n",
    "    print(cb.total_tokens)"
   ]
  },
  {
   "cell_type": "code",
   "execution_count": 11,
   "id": "c00c9158-7bb4-4279-88e6-ea70f46e6ac2",
   "metadata": {},
   "outputs": [
    {
     "name": "stdout",
     "output_type": "stream",
     "text": [
      "Tokens Used: 29\n",
      "\tPrompt Tokens: 11\n",
      "\tCompletion Tokens: 18\n",
      "Successful Requests: 1\n",
      "Total Cost (USD): $1.2449999999999998e-05\n"
     ]
    }
   ],
   "source": [
    "with get_openai_callback() as cb:\n",
    "    for chunk in llm.stream(\"Tell me a joke\"):\n",
    "        pass\n",
    "    print(cb)"
   ]
  }
 ],
 "metadata": {
  "kernelspec": {
   "display_name": "Python 3 (ipykernel)",
   "language": "python",
   "name": "python3"
  },
  "language_info": {
   "codemirror_mode": {
    "name": "ipython",
    "version": 3
   },
   "file_extension": ".py",
   "mimetype": "text/x-python",
   "name": "python",
   "nbconvert_exporter": "python",
   "pygments_lexer": "ipython3",
   "version": "3.12.4"
  }
 },
 "nbformat": 4,
 "nbformat_minor": 5
}
